{
 "cells": [
  {
   "cell_type": "markdown",
   "metadata": {},
   "source": [
    "# This is the ABCcompany!"
   ]
  },
  {
   "cell_type": "markdown",
   "metadata": {},
   "source": [
    "We are not like other companies. We have our own **style**."
   ]
  },
  {
   "cell_type": "markdown",
   "metadata": {},
   "source": [
    "## Our headings are different\n",
    "Here are other reasons why we are different:\n",
    "- 🏄🏻‍♀️ Our bullet points are a different shape\n",
    "- 🎨 Our font color is modern\n",
    "- 🎶 Our font family represents our values\n",
    "- 🥇 You'll always find our logo first\n",
    "- 💪🏽 We can become whatever we want"
   ]
  },
  {
   "cell_type": "code",
   "execution_count": 2,
   "metadata": {},
   "outputs": [],
   "source": [
    "# We are not as radical as to change python cells\n",
    "import pandas as pd\n",
    "import numpy as np\n",
    "\n",
    "data = pd.DataFrame(\n",
    "    {\n",
    "        \"customer_id\": [\"abc1\", \"abc2\"],\n",
    "        \"name\": [\"Alvaro\", \"Bianca\"]\n",
    "    }\n",
    ")"
   ]
  }
 ],
 "metadata": {
  "kernelspec": {
   "display_name": "Python 3.9.12 ('nbconvert_template')",
   "language": "python",
   "name": "python3"
  },
  "language_info": {
   "codemirror_mode": {
    "name": "ipython",
    "version": 3
   },
   "file_extension": ".py",
   "mimetype": "text/x-python",
   "name": "python",
   "nbconvert_exporter": "python",
   "pygments_lexer": "ipython3",
   "version": "3.9.12"
  },
  "orig_nbformat": 4,
  "vscode": {
   "interpreter": {
    "hash": "8219e84d43ca21ade69479b37e47dc05e4c2a7ca6e15d0eff4dbfe0bbae93928"
   }
  }
 },
 "nbformat": 4,
 "nbformat_minor": 2
}
